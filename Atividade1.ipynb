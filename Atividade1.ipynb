{
  "nbformat": 4,
  "nbformat_minor": 0,
  "metadata": {
    "colab": {
      "provenance": [],
      "authorship_tag": "ABX9TyPZrL7jCLQG8vID055FiVnM",
      "include_colab_link": true
    },
    "kernelspec": {
      "name": "python3",
      "display_name": "Python 3"
    },
    "language_info": {
      "name": "python"
    }
  },
  "cells": [
    {
      "cell_type": "markdown",
      "metadata": {
        "id": "view-in-github",
        "colab_type": "text"
      },
      "source": [
        "<a href=\"https://colab.research.google.com/github/polliz9/atv1-dataframes/blob/main/Atividade1.ipynb\" target=\"_parent\"><img src=\"https://colab.research.google.com/assets/colab-badge.svg\" alt=\"Open In Colab\"/></a>"
      ]
    },
    {
      "cell_type": "code",
      "execution_count": null,
      "metadata": {
        "id": "bG8BDTSl7zso",
        "colab": {
          "base_uri": "https://localhost:8080/"
        },
        "outputId": "7a05d692-cf5d-4981-99db-c46d0873d3a0"
      },
      "outputs": [
        {
          "output_type": "stream",
          "name": "stdout",
          "text": [
            "         Data          Cidade  Temp Máx(°C)  Temp Mín(°C)  Chuva (mm)  Umd(%)\n",
            "0  15/01/2025       São Paulo          30.5          22.0        12.0    78.0\n",
            "1  15/01/2025  Rio de Janeiro          35.0          25.0         NaN    70.0\n",
            "2  15/01/2025        Curitiba          24.0          18.0         8.0     NaN\n",
            "3  15/01/2025    Porto Alegre          28.0          20.0        15.0    82.0\n",
            "4  15/01/2025        Salvador          31.0          24.5         NaN    80.0\n"
          ]
        }
      ],
      "source": [
        "import pandas as pd\n",
        "\n",
        "# Criando o DataFrame com os dados fornecidos\n",
        "data = {\n",
        "    'Data': ['15/01/2025'] * 5,\n",
        "    'Cidade': ['São Paulo', 'Rio de Janeiro', 'Curitiba', 'Porto Alegre', 'Salvador'],\n",
        "    'Temp Máx(°C)': [30.5, 35.0, 24.0, 28.0, 31.0],\n",
        "    'Temp Mín(°C)': [22.0, 25.0, 18.0, 20.0, 24.5],\n",
        "    'Chuva (mm)': [12.0, None, 8.0, 15.0, None],\n",
        "    'Umd(%)': [78, 70, None, 82, 80]\n",
        "}\n",
        "\n",
        "df = pd.DataFrame(data)\n",
        "print(df)"
      ]
    },
    {
      "cell_type": "code",
      "source": [
        "df = pd.DataFrame(data)\n",
        "\n",
        "# Substituindo valores ausentes na coluna chuva pela média da Precipitação\n",
        "df['Chuva (mm)'].fillna(df['Chuva (mm)'].mean(), inplace=True)\n",
        "\n",
        "print(df)\n"
      ],
      "metadata": {
        "colab": {
          "base_uri": "https://localhost:8080/"
        },
        "id": "0ItqLbNCD2yd",
        "outputId": "d9eea761-bd6c-4e38-f2a2-d6b5f137377e"
      },
      "execution_count": null,
      "outputs": [
        {
          "output_type": "stream",
          "name": "stdout",
          "text": [
            "         Data          Cidade  Temp Máx(°C)  Temp Mín(°C)  Chuva (mm)  Umd(%)\n",
            "0  15/01/2025       São Paulo          30.5          22.0   12.000000    78.0\n",
            "1  15/01/2025  Rio de Janeiro          35.0          25.0   11.666667    70.0\n",
            "2  15/01/2025        Curitiba          24.0          18.0    8.000000     NaN\n",
            "3  15/01/2025    Porto Alegre          28.0          20.0   15.000000    82.0\n",
            "4  15/01/2025        Salvador          31.0          24.5   11.666667    80.0\n"
          ]
        },
        {
          "output_type": "stream",
          "name": "stderr",
          "text": [
            "<ipython-input-22-8eae84a66508>:4: FutureWarning: A value is trying to be set on a copy of a DataFrame or Series through chained assignment using an inplace method.\n",
            "The behavior will change in pandas 3.0. This inplace method will never work because the intermediate object on which we are setting values always behaves as a copy.\n",
            "\n",
            "For example, when doing 'df[col].method(value, inplace=True)', try using 'df.method({col: value}, inplace=True)' or df[col] = df[col].method(value) instead, to perform the operation inplace on the original object.\n",
            "\n",
            "\n",
            "  df['Chuva (mm)'].fillna(df['Chuva (mm)'].mean(), inplace=True)\n"
          ]
        }
      ]
    },
    {
      "cell_type": "code",
      "source": [
        "\n",
        "df = pd.DataFrame(data)\n",
        "\n",
        "# Substituindo valores ausentes na coluna Umidade Relativa pela mediana da Umidade Relativa\n",
        "df['Umd(%)'].fillna(df['Umd(%)'].median(), inplace=True)\n",
        "\n",
        "print(df)\n"
      ],
      "metadata": {
        "colab": {
          "base_uri": "https://localhost:8080/"
        },
        "id": "gqvx554KFFf7",
        "outputId": "1f15ff62-f8ad-460f-a00a-30a4d1bc6401"
      },
      "execution_count": null,
      "outputs": [
        {
          "output_type": "stream",
          "name": "stdout",
          "text": [
            "         Data          Cidade  Temp Máx(°C)  Temp Mín(°C)  Chuva (mm)  Umd(%)\n",
            "0  15/01/2025       São Paulo          30.5          22.0        12.0    78.0\n",
            "1  15/01/2025  Rio de Janeiro          35.0          25.0         NaN    70.0\n",
            "2  15/01/2025        Curitiba          24.0          18.0         8.0    79.0\n",
            "3  15/01/2025    Porto Alegre          28.0          20.0        15.0    82.0\n",
            "4  15/01/2025        Salvador          31.0          24.5         NaN    80.0\n"
          ]
        },
        {
          "output_type": "stream",
          "name": "stderr",
          "text": [
            "<ipython-input-23-6620ef0adf8a>:4: FutureWarning: A value is trying to be set on a copy of a DataFrame or Series through chained assignment using an inplace method.\n",
            "The behavior will change in pandas 3.0. This inplace method will never work because the intermediate object on which we are setting values always behaves as a copy.\n",
            "\n",
            "For example, when doing 'df[col].method(value, inplace=True)', try using 'df.method({col: value}, inplace=True)' or df[col] = df[col].method(value) instead, to perform the operation inplace on the original object.\n",
            "\n",
            "\n",
            "  df['Umd(%)'].fillna(df['Umd(%)'].median(), inplace=True)\n"
          ]
        }
      ]
    },
    {
      "cell_type": "code",
      "source": [
        "df = pd.DataFrame(data)\n",
        "df['Amplitude Térmica'] = df['Temp Máx(°C)'] - df['Temp Mín(°C)']\n",
        "\n",
        "print(df)\n"
      ],
      "metadata": {
        "colab": {
          "base_uri": "https://localhost:8080/"
        },
        "id": "0qsWNWY6Ft7G",
        "outputId": "b48de3d9-2790-4754-8666-bb579dc6297c"
      },
      "execution_count": null,
      "outputs": [
        {
          "output_type": "stream",
          "name": "stdout",
          "text": [
            "         Data          Cidade  Temp Máx(°C)  Temp Mín(°C)  Chuva (mm)  Umd(%)  \\\n",
            "0  15/01/2025       São Paulo          30.5          22.0        12.0    78.0   \n",
            "1  15/01/2025  Rio de Janeiro          35.0          25.0         NaN    70.0   \n",
            "2  15/01/2025        Curitiba          24.0          18.0         8.0     NaN   \n",
            "3  15/01/2025    Porto Alegre          28.0          20.0        15.0    82.0   \n",
            "4  15/01/2025        Salvador          31.0          24.5         NaN    80.0   \n",
            "\n",
            "   Amplitude Térmica  \n",
            "0                8.5  \n",
            "1               10.0  \n",
            "2                6.0  \n",
            "3                8.0  \n",
            "4                6.5  \n"
          ]
        }
      ]
    },
    {
      "cell_type": "code",
      "source": [
        "df = pd.DataFrame(data)\n",
        "# Criando um novo DataFrame contendo apenas as cidades com Temperatura Máxima acima de 30°C\n",
        "df_temp_acima_30 = df[df['Temp Máx(°C)'] > 30]\n",
        "\n",
        "print(df_temp_acima_30)\n"
      ],
      "metadata": {
        "colab": {
          "base_uri": "https://localhost:8080/"
        },
        "id": "aVmUgfv0GOPe",
        "outputId": "8d8abfc1-7caf-4148-884c-df2a44ff05a9"
      },
      "execution_count": null,
      "outputs": [
        {
          "output_type": "stream",
          "name": "stdout",
          "text": [
            "         Data          Cidade  Temp Máx(°C)  Temp Mín(°C)  Chuva (mm)  Umd(%)\n",
            "0  15/01/2025       São Paulo          30.5          22.0        12.0    78.0\n",
            "1  15/01/2025  Rio de Janeiro          35.0          25.0         NaN    70.0\n",
            "4  15/01/2025        Salvador          31.0          24.5         NaN    80.0\n"
          ]
        }
      ]
    },
    {
      "cell_type": "code",
      "source": [
        "df = pd.DataFrame(data)\n",
        "\n",
        "# Substituindo valores ausentes na coluna Precipitação pela média da Precipitação\n",
        "df['Chuva (mm)'].fillna(df['Chuva (mm)'].mean(), inplace=True)\n",
        "\n",
        "# Substituindo valores ausentes na coluna Umidade Relativa pela mediana da Umidade Relativa\n",
        "df['Umd(%)'].fillna(df['Umd(%)'].median(), inplace=True)\n",
        "\n",
        "# Adicionando uma nova coluna chamada Amplitude Térmica\n",
        "df['Amplitude Térmica'] = df['Temp Máx(°C)'] - df['Temp Mín(°C)']\n",
        "\n",
        "# Criando um novo DataFrame contendo apenas as cidades com Temperatura Máxima acima de 30°C\n",
        "df_temp_acima_30 = df[df['Temp Máx(°C)'] > 30]\n",
        "\n",
        "# Reordenando as colunas conforme solicitado\n",
        "df = df[['Data', 'Cidade', 'Temp Máx(°C)', 'Temp Mín(°C)', 'Amplitude Térmica', 'Chuva (mm)', 'Umd(%)']]\n",
        "\n",
        "print(df)"
      ],
      "metadata": {
        "colab": {
          "base_uri": "https://localhost:8080/"
        },
        "id": "HPZujcZbGmfr",
        "outputId": "b67d3d04-55a3-458a-dd63-05a9ecd4e89d"
      },
      "execution_count": null,
      "outputs": [
        {
          "output_type": "stream",
          "name": "stdout",
          "text": [
            "         Data          Cidade  Temp Máx(°C)  Temp Mín(°C)  Amplitude Térmica  \\\n",
            "0  15/01/2025       São Paulo          30.5          22.0                8.5   \n",
            "1  15/01/2025  Rio de Janeiro          35.0          25.0               10.0   \n",
            "2  15/01/2025        Curitiba          24.0          18.0                6.0   \n",
            "3  15/01/2025    Porto Alegre          28.0          20.0                8.0   \n",
            "4  15/01/2025        Salvador          31.0          24.5                6.5   \n",
            "\n",
            "   Chuva (mm)  Umd(%)  \n",
            "0   12.000000    78.0  \n",
            "1   11.666667    70.0  \n",
            "2    8.000000    79.0  \n",
            "3   15.000000    82.0  \n",
            "4   11.666667    80.0  \n"
          ]
        },
        {
          "output_type": "stream",
          "name": "stderr",
          "text": [
            "<ipython-input-32-19f976941107>:4: FutureWarning: A value is trying to be set on a copy of a DataFrame or Series through chained assignment using an inplace method.\n",
            "The behavior will change in pandas 3.0. This inplace method will never work because the intermediate object on which we are setting values always behaves as a copy.\n",
            "\n",
            "For example, when doing 'df[col].method(value, inplace=True)', try using 'df.method({col: value}, inplace=True)' or df[col] = df[col].method(value) instead, to perform the operation inplace on the original object.\n",
            "\n",
            "\n",
            "  df['Chuva (mm)'].fillna(df['Chuva (mm)'].mean(), inplace=True)\n",
            "<ipython-input-32-19f976941107>:7: FutureWarning: A value is trying to be set on a copy of a DataFrame or Series through chained assignment using an inplace method.\n",
            "The behavior will change in pandas 3.0. This inplace method will never work because the intermediate object on which we are setting values always behaves as a copy.\n",
            "\n",
            "For example, when doing 'df[col].method(value, inplace=True)', try using 'df.method({col: value}, inplace=True)' or df[col] = df[col].method(value) instead, to perform the operation inplace on the original object.\n",
            "\n",
            "\n",
            "  df['Umd(%)'].fillna(df['Umd(%)'].median(), inplace=True)\n"
          ]
        }
      ]
    }
  ]
}