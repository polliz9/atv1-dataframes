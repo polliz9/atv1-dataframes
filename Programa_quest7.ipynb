{
  "nbformat": 4,
  "nbformat_minor": 0,
  "metadata": {
    "colab": {
      "provenance": [],
      "authorship_tag": "ABX9TyO4wQJshDD8c1fdswtWjSIn",
      "include_colab_link": true
    },
    "kernelspec": {
      "name": "python3",
      "display_name": "Python 3"
    },
    "language_info": {
      "name": "python"
    }
  },
  "cells": [
    {
      "cell_type": "markdown",
      "metadata": {
        "id": "view-in-github",
        "colab_type": "text"
      },
      "source": [
        "<a href=\"https://colab.research.google.com/github/polliz9/atv1-dataframes/blob/main/Programa_quest7.ipynb\" target=\"_parent\"><img src=\"https://colab.research.google.com/assets/colab-badge.svg\" alt=\"Open In Colab\"/></a>"
      ]
    },
    {
      "cell_type": "code",
      "execution_count": 8,
      "metadata": {
        "colab": {
          "base_uri": "https://localhost:8080/"
        },
        "id": "0FCuGUzC5JoN",
        "outputId": "5f27ae21-904f-44ef-e4dd-53bf181098ed"
      },
      "outputs": [
        {
          "output_type": "stream",
          "name": "stdout",
          "text": [
            "Acurácia do modelo: 100.00%\n"
          ]
        }
      ],
      "source": [
        "# Importando bibliotecas necessárias\n",
        "import numpy as np\n",
        "import pandas as pd\n",
        "from sklearn.model_selection import train_test_split\n",
        "from sklearn.linear_model import LogisticRegression\n",
        "from sklearn.metrics import accuracy_score\n",
        "\n",
        "# Simulando dados\n",
        "np.random.seed(0)\n",
        "num_samples = 500\n",
        "\n",
        "# Horas semanais de atividade física (de 0 a 10 horas)\n",
        "X = np.random.uniform(0, 10, num_samples).reshape(-1, 1)\n",
        "\n",
        "# Indicador de risco de doença cardíaca (1 = risco, 0 = sem risco)\n",
        "# Assumindo que menos horas de exercício aumentam o risco\n",
        "y = (X < 5).astype(int).ravel()\n",
        "\n",
        "# Dividindo os dados em conjuntos de treino e teste\n",
        "X_train, X_test, y_train, y_test = train_test_split(X, y, test_size=0.3, random_state=42)\n",
        "\n",
        "# Criando e treinando o modelo de regressão logística\n",
        "model = LogisticRegression()\n",
        "model.fit(X_train, y_train)\n",
        "\n",
        "# Fazendo previsões nos dados de teste\n",
        "y_pred = model.predict(X_test)\n",
        "\n",
        "# Avaliando a acurácia do modelo\n",
        "accuracy = accuracy_score(y_test, y_pred)\n",
        "print(f'Acurácia do modelo: {accuracy * 100:.2f}%')\n"
      ]
    },
    {
      "cell_type": "markdown",
      "source": [],
      "metadata": {
        "id": "kE3Ax6RJhgdc"
      }
    }
  ]
}