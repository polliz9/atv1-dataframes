{
  "nbformat": 4,
  "nbformat_minor": 0,
  "metadata": {
    "colab": {
      "provenance": [],
      "authorship_tag": "ABX9TyOQo2UtA+7QvRZVQ/6i6ihr",
      "include_colab_link": true
    },
    "kernelspec": {
      "name": "python3",
      "display_name": "Python 3"
    },
    "language_info": {
      "name": "python"
    }
  },
  "cells": [
    {
      "cell_type": "markdown",
      "metadata": {
        "id": "view-in-github",
        "colab_type": "text"
      },
      "source": [
        "<a href=\"https://colab.research.google.com/github/polliz9/atv1-dataframes/blob/main/atv_1_und4ipynb.ipynb\" target=\"_parent\"><img src=\"https://colab.research.google.com/assets/colab-badge.svg\" alt=\"Open In Colab\"/></a>"
      ]
    },
    {
      "cell_type": "code",
      "execution_count": 9,
      "metadata": {
        "colab": {
          "base_uri": "https://localhost:8080/"
        },
        "id": "i3x7TkiRefJ4",
        "outputId": "82b759a4-e6e3-451d-87aa-646e4490f2b3"
      },
      "outputs": [
        {
          "output_type": "stream",
          "name": "stdout",
          "text": [
            "Erro Quadrático Médio (MSE): 807322.49\n"
          ]
        }
      ],
      "source": [
        "import numpy as np\n",
        "import pandas as pd\n",
        "from sklearn.pipeline import Pipeline\n",
        "from sklearn.compose import ColumnTransformer\n",
        "from sklearn.preprocessing import OneHotEncoder, StandardScaler\n",
        "from sklearn.linear_model import LinearRegression\n",
        "from sklearn.metrics import mean_squared_error\n",
        "from sklearn.model_selection import train_test_split\n",
        "\n",
        "# Gerando dados fictícios\n",
        "data = {\n",
        "    'Combustivel': ['Gasolina', 'Diesel', 'Etanol', 'Gasolina', 'Diesel', 'Etanol', 'Gasolina', 'Diesel'],\n",
        "    'Idade': [3, 5, 2, 8, 4, 1, 6, 7],\n",
        "    'Quilometragem': [30000, 50000, 20000, 80000, 40000, 15000, 60000, 70000],\n",
        "    'Preco': [45000, 40000, 50000, 30000, 42000, 52000, 35000, 33000]\n",
        "}\n",
        "\n",
        "# Criando DataFrame\n",
        "df = pd.DataFrame(data)\n",
        "\n",
        "# Separando variáveis independentes (X) e dependente (y)\n",
        "X = df[['Combustivel', 'Idade', 'Quilometragem']]\n",
        "y = df['Preco']\n",
        "\n",
        "# Dividindo os dados em treino e teste\n",
        "X_train, X_test, y_train, y_test = train_test_split(X, y, test_size=0.3, random_state=42)\n",
        "\n",
        "# Definindo os pré-processadores\n",
        "numericos = ['Idade', 'Quilometragem']\n",
        "categoria = ['Combustivel']\n",
        "\n",
        "numericos_transformer = StandardScaler()\n",
        "categoria_transformer = OneHotEncoder()\n",
        "\n",
        "# Criando o ColumnTransformer\n",
        "preprocessor = ColumnTransformer(\n",
        "    transformers=[\n",
        "        ('num', numericos_transformer, numericos),\n",
        "        ('cat', categoria_transformer, categoria)\n",
        "    ]\n",
        ")\n",
        "\n",
        "# Criando o pipeline\n",
        "model = Pipeline([\n",
        "    ('preprocessor', preprocessor),\n",
        "    ('regressor', LinearRegression())\n",
        "])\n",
        "\n",
        "# Treinando o modelo\n",
        "model.fit(X_train, y_train)\n",
        "\n",
        "# Fazendo previsões\n",
        "y_pred = model.predict(X_test)\n",
        "\n",
        "# Avaliando o modelo (MSE)\n",
        "mse = mean_squared_error(y_test, y_pred)\n",
        "print(f'Erro Quadrático Médio (MSE): {mse:.2f}')\n"
      ]
    }
  ]
}